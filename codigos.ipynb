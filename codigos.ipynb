{
 "cells": [
  {
   "cell_type": "code",
   "execution_count": null,
   "id": "61d1c421",
   "metadata": {},
   "outputs": [],
   "source": [
    "# clone darknet repo\n",
    "!git clone https://github.com/AlexeyAB/darknet/"
   ]
  },
  {
   "cell_type": "code",
   "execution_count": null,
   "id": "d51e040e",
   "metadata": {},
   "outputs": [],
   "source": [
    "# change makefile to have GPU and OPENCV enabled\n",
    "%cd darknet\n",
    "!sed -i 's/OPENCV=0/OPENCV=1/' Makefile\n",
    "!sed -i 's/GPU=0/GPU=1/' Makefile\n",
    "!sed -i 's/CUDNN=0/CUDNN=1/' Makefile\n",
    "!sed -i 's/CUDNN_HALF=0/CUDNN_HALF=1/' Makefile"
   ]
  },
  {
   "cell_type": "code",
   "execution_count": null,
   "id": "3891acd0",
   "metadata": {},
   "outputs": [],
   "source": [
    "# verify CUDA\n",
    "!/usr/local/cuda/bin/nvcc --version"
   ]
  },
  {
   "cell_type": "code",
   "execution_count": null,
   "id": "22bfcda4",
   "metadata": {},
   "outputs": [],
   "source": [
    "# make darknet (builds darknet so that you can then use the darknet executable file to run or train object detectors)\n",
    "!make"
   ]
  },
  {
   "cell_type": "code",
   "execution_count": null,
   "id": "f169bba2",
   "metadata": {},
   "outputs": [],
   "source": [
    "!wget https://github.com/AlexeyAB/darknet/releases/download/darknet_yolo_v3_optimal/yolov4.weights"
   ]
  },
  {
   "cell_type": "code",
   "execution_count": null,
   "id": "67ce7a63",
   "metadata": {},
   "outputs": [],
   "source": [
    "# define helper functions\n",
    "def imShow(path):\n",
    "  import cv2\n",
    "  import matplotlib.pyplot as plt\n",
    "  %matplotlib inline\n",
    "\n",
    "  image = cv2.imread(path)\n",
    "  height, width = image.shape[:2]\n",
    "  resized_image = cv2.resize(image,(3*width, 3*height), interpolation = cv2.INTER_CUBIC)\n",
    "\n",
    "  fig = plt.gcf()\n",
    "  fig.set_size_inches(18, 10)\n",
    "  plt.axis(\"off\")\n",
    "  plt.imshow(cv2.cvtColor(resized_image, cv2.COLOR_BGR2RGB))\n",
    "  plt.show()\n",
    "\n",
    "# use this to upload files\n",
    "def upload():\n",
    "  from google.colab import files\n",
    "  uploaded = files.upload()\n",
    "  for name, data in uploaded.items():\n",
    "    with open(name, 'wb') as f:\n",
    "      f.write(data)\n",
    "      print ('saved file', name)\n",
    "\n",
    "# use this to download a file\n",
    "def download(path):\n",
    "  from google.colab import files\n",
    "  files.download(path)"
   ]
  },
  {
   "cell_type": "code",
   "execution_count": null,
   "id": "1e0df07a",
   "metadata": {},
   "outputs": [],
   "source": [
    "!wget http://www.inf.ufpr.br/vri/databases/layout-independent-alpr/data/vehicle-detection.cfg\n",
    "!wget http://www.inf.ufpr.br/vri/databases/layout-independent-alpr/data/vehicle-detection.data\n",
    "!wget http://www.inf.ufpr.br/vri/databases/layout-independent-alpr/data/vehicle-detection.weights\n",
    "!wget http://www.inf.ufpr.br/vri/databases/layout-independent-alpr/data/vehicle-detection.names\n",
    "!wget http://www.inf.ufpr.br/vri/databases/layout-independent-alpr/data/lp-detection-layout-classification.cfg\n",
    "!wget http://www.inf.ufpr.br/vri/databases/layout-independent-alpr/data/lp-detection-layout-classification.data\n",
    "!wget http://www.inf.ufpr.br/vri/databases/layout-independent-alpr/data/lp-detection-layout-classification.weights\n",
    "!wget http://www.inf.ufpr.br/vri/databases/layout-independent-alpr/data/lp-detection-layout-classification.names\n",
    "!wget http://www.inf.ufpr.br/vri/databases/layout-independent-alpr/data/lp-recognition.cfg\n",
    "!wget http://www.inf.ufpr.br/vri/databases/layout-independent-alpr/data/lp-recognition.data\n",
    "!wget http://www.inf.ufpr.br/vri/databases/layout-independent-alpr/data/lp-recognition.weights\n",
    "!wget http://www.inf.ufpr.br/vri/databases/layout-independent-alpr/data/lp-recognition.names\n",
    "!wget http://www.inf.ufpr.br/vri/databases/layout-independent-alpr/data/sample-image.jpg\n",
    "!wget http://www.inf.ufpr.br/vri/databases/layout-independent-alpr/data/README.txt"
   ]
  },
  {
   "cell_type": "code",
   "execution_count": null,
   "id": "ed34005a",
   "metadata": {},
   "outputs": [],
   "source": [
    "##usando como referencia https://stackoverflow.com/questions/64096953/how-to-convert-yolo-format-bounding-box-coordinates-into-opencv-format\n",
    "import cv2\n",
    "def crop_img(filename,Dict):\n",
    "  box=Dict['relative_coordinates']\n",
    "  img = cv2.imread(filename)\n",
    "  dh, dw, _ = img.shape\n",
    "  x=float(box['center_x'])\n",
    "  w=float(box['width'] )\n",
    "  y=float(box['center_y'])\n",
    "  h=float(box['height'])\n",
    "  x_min = int((x - w / 2) * dw)\n",
    "  x_max = int((x + w / 2) * dw)\n",
    "  y_min = int((y - h / 2) * dh)\n",
    "  y_max = int((y + h / 2) * dh)\n",
    "  if x_min>-1 and x_max>-1 and y_min>-1 and y_max>-1:\n",
    "    crop_image = img[y_min:y_max, x_min:x_max]\n",
    "    return crop_image"
   ]
  },
  {
   "cell_type": "code",
   "execution_count": null,
   "id": "c517b9f4",
   "metadata": {},
   "outputs": [],
   "source": [
    "import cv2\n",
    "import json\n",
    "def SelecionaPlaca(data,filename):\n",
    "  for Dict  in data[\"objects\"]:\n",
    "    if Dict[\"confidence\"]>0.5:\n",
    "      crop_image = crop_img(data[\"filename\"],Dict)\n",
    "      cv2.imwrite(\"temporarioPlaca.jpg\",crop_image)\n",
    "      !./darknet detector test lp-recognition.data lp-recognition.cfg lp-recognition.weights -thresh .5 -ext_output  -dont_show -out temporarioValores.json <<< temporarioPlaca.jpg\n",
    "      placa = cv2.imread('predictions.jpg')\n",
    "      cv2.imwrite(\"placa\"+filename,placa)\n",
    "   ##   download(\"placa\"+filename)\n",
    "      imShow(\"placa\"+filename)"
   ]
  },
  {
   "cell_type": "code",
   "execution_count": null,
   "id": "8372d0d3",
   "metadata": {},
   "outputs": [],
   "source": [
    "import cv2\n",
    "import json\n",
    "def identificaVeiculos(data,nome):\n",
    "  for Dict  in data[\"objects\"]:\n",
    "    if Dict[\"confidence\"]>0.5:\n",
    "      crop_image = crop_img(data[\"filename\"],Dict)\n",
    "      if crop_image is None:\n",
    "        print(\"esta falhou\")\n",
    "      else:\n",
    "        newFilename=Dict[\"name\"]+nome+data[\"filename\"]\n",
    "        cv2.imwrite(newFilename,crop_image)\n",
    "        cv2.imwrite(\"temporarioVeiculo.jpg\",crop_image)\n",
    "        !./darknet detector test lp-detection-layout-classification.data lp-detection-layout-classification.cfg lp-detection-layout-classification.weights -thresh .25  -ext_output  -dont_show -out temporarioVeiculo.json <<< temporarioVeiculo.jpg\n",
    "        veiculo = cv2.imread(\"predictions.jpg\")\n",
    "        print(newFilename)\n",
    "        cv2.imwrite(\"predicao\"+newFilename,veiculo)\n",
    "  ##    download(\"predicao\"+newFilename)\n",
    "        imShow(newFilename)\n",
    "        with open(\"temporarioVeiculo.json\") as dados:\n",
    "          dadosPlaca=json.load(dados)[0]\n",
    "          SelecionaPlaca(dadosPlaca,newFilename)"
   ]
  },
  {
   "cell_type": "code",
   "execution_count": null,
   "id": "66257eba",
   "metadata": {},
   "outputs": [],
   "source": [
    "import json\n",
    "def realizaPredicao(nome):\n",
    "  img = cv2.imread(nome)\n",
    "  cv2.imwrite(\"sample-image.jpg\",img)\n",
    "  !./darknet detector test vehicle-detection.data vehicle-detection.cfg vehicle-detection.weights -thresh .25 -ext_output -dont_show -out result.json   <<<sample-image.jpg\n",
    "  imShow('predictions.jpg')\n",
    "  imgPredita = cv2.imread('predictions.jpg')\n",
    "  cv2.imwrite(\"predictions\"+nome,imgPredita)\n",
    " ## download(\"predictions\"+nome)\n",
    "  with open(\"result.json\") as dados:\n",
    "    resultado=json.load(dados)\n",
    "  print(resultado)\n",
    "  identificaVeiculos(resultado[0],nome)"
   ]
  },
  {
   "cell_type": "code",
   "execution_count": null,
   "id": "06656362",
   "metadata": {},
   "outputs": [],
   "source": [
    "realizaPredicao(\"sample-image.jpg\")"
   ]
  },
  {
   "cell_type": "code",
   "execution_count": null,
   "id": "30dc94a8",
   "metadata": {},
   "outputs": [],
   "source": [
    "for x in range(1,113):\n",
    "  realizaPredicao(\"imagem (\"+str(x)+\").jpg\")"
   ]
  },
  {
   "cell_type": "code",
   "execution_count": null,
   "id": "76cec2a5",
   "metadata": {},
   "outputs": [],
   "source": [
    "!./darknet detector demo vehicle-detection.data vehicle-detection.cfg vehicle-detection.weights -thresh .25 -dont_show Video2min.mp4 -i 0 -out_filename Video2minResults.avi  -ext_output  -out result.json"
   ]
  },
  {
   "cell_type": "code",
   "execution_count": null,
   "id": "77f40309",
   "metadata": {},
   "outputs": [],
   "source": [
    "!./darknet detector demo vehicle-detection.data vehicle-detection.cfg vehicle-detection.weights -thresh .25 -dont_show Video2Minv2.mp4 -i 0 -ext_output -out result.json -out_filename Video2Minv2Results.avi"
   ]
  },
  {
   "cell_type": "code",
   "execution_count": null,
   "id": "1c13e135",
   "metadata": {},
   "outputs": [],
   "source": []
  }
 ],
 "metadata": {
  "kernelspec": {
   "display_name": "Python 3 (ipykernel)",
   "language": "python",
   "name": "python3"
  },
  "language_info": {
   "codemirror_mode": {
    "name": "ipython",
    "version": 3
   },
   "file_extension": ".py",
   "mimetype": "text/x-python",
   "name": "python",
   "nbconvert_exporter": "python",
   "pygments_lexer": "ipython3",
   "version": "3.11.5"
  }
 },
 "nbformat": 4,
 "nbformat_minor": 5
}
